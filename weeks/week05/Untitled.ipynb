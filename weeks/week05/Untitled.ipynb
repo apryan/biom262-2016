{
 "cells": [
  {
   "cell_type": "code",
   "execution_count": 40,
   "metadata": {
    "collapsed": false
   },
   "outputs": [
    {
     "name": "stdout",
     "output_type": "stream",
     "text": [
      "0 \t 49 \t aras epnojlfi ts dzcltupcslqopk gnasny dpdycum tzwkhjyi\n",
      "1 \t 48 \t aras epnojlfi ts dzcltupcslqopk gnasny dpdkcum tkwkhjyi\n",
      "2 \t 47 \t aras epnojl i ts dzcltupcslqopk gnarny dpdkcum tkwkhjyi\n",
      "3 \t 46 \t aras epnojl i ts dzcltupcslqopk gnarey dpdkcum tkwkhjyi\n",
      "4 \t 45 \t aras ep ojl i ts dzcltupcslqopk gnarey dpdkcum tkwkhjyi\n",
      "5 \t 44 \t aras ep ojl i ts dzcitupcslqopk giarey dpdkcum tkwkhjyi\n",
      "6 \t 43 \t aras ep ojl i ts dzcitupcslqopk giarey dpdkcuh tkwkhjyi\n",
      "7 \t 42 \t aras ep ojl i ts dzcitupcslqopk giares dpdkcuh tkwkhjyi\n",
      "8 \t 41 \t aras ep ojl i ts dzcitupc lqopk giares dpdkcuh tkwkhjyi\n",
      "9 \t 40 \t aras ep ojl i ts dzcituoc lqopk girres dpdkcuh tkwksjyi\n",
      "10 \t 39 \t aras ep ojl i ts dzcituoc lqopk girres dpdkcuh tkwksjei\n",
      "11 \t 38 \t aras ep ojl i ts dzcituoc lqopkngirres dpdkcuh tkwksjei\n",
      "12 \t 37 \t aras ep ojl b ts dzcituoc l ppkngirres dpdkcuh fkwksjei\n",
      "13 \t 36 \t aras ee ojl b ts dzcituoc l ppkngirres dpdkcuh fkwksjei\n",
      "14 \t 35 \t aras ee ojl b ts dzcituoc loppkngmrres dpdkcuh fkwksjei\n",
      "15 \t 34 \t aras ee ojl b to fzcituoc loppkngmrres dpdkcuh fkwksjei\n",
      "16 \t 33 \t aras ee ojl b to fzcitioc loppkngmrres dpdkcuh fkwksjei\n",
      "17 \t 32 \t aras ee ojl b to fzcitioc loppkngmrres dpdkcuh fkiksjei\n",
      "18 \t 31 \t aras ee oel b to fzcitioc loppkngmrres dpdkcuh fkiksjei\n",
      "19 \t 30 \t aras ee oel b to fzcitioc loppkngmrres dpdmc h fkikcjei\n",
      "20 \t 29 \t aras ee oel b to fzcitioc loppkngmrres dpdmcth fkikcjei\n",
      "21 \t 29 \t arab ee oel b to fzcitioc loppkngmrres dpdmcth fkikcjei\n",
      "22 \t 28 \t araa ee oel b to fzcitioc loppkngmrres dpdtcth fkikcjei\n",
      "23 \t 27 \t araa ee oelcb to fzcitioc loppingmrres dpdtcth fkikcjei\n",
      "24 \t 26 \t araa ee gelcb to fzcitioc loppingmrres dputcth fkikcjer\n",
      "25 \t 25 \t araa ee gelcb to fzcition loppingmrres dputcth fkikcjer\n",
      "26 \t 24 \t araa ee gelcb to fhcition loppingmfres dputcth fkikcjer\n",
      "27 \t 23 \t arandee gelcx to fhcition loppingmfres dputcth fkijcjer\n",
      "28 \t 22 \t arandee gelcx to fhcition loppingmfres  putcth fkijcjer\n",
      "29 \t 21 \t arandhe gelcx to fhcition loppingzfres  putcth fkijcjer\n",
      "30 \t 20 \t ara dhe gelcx to fhcition loppingzfres  putcth fkijcjeh\n",
      "31 \t 20 \t afa dhe gelcx to fhcition loppingzfres  putcth fkijcjeh\n",
      "32 \t 19 \t afa dhe gelcx to fgcition loppingzfres  putcth fkijcjeh\n",
      "33 \t 19 \t aba dhe gelcx to lgcition loppingzfres  putcth fkijcjeh\n",
      "34 \t 18 \t ata dhe celcx to lgcition loppingzfres  putcth fkijcjeh\n",
      "35 \t 17 \t ata dhe celcx to lgcition loppingzfresh putcth fkijcjeh\n",
      "36 \t 17 \t ata dhe aelcx to lgcition loppingzfresh putcth fkijcjeh\n",
      "37 \t 16 \t atg dhe aemcx to lgcition loppingzfresh putcthxfkijcjeh\n",
      "38 \t 15 \t atg dhe aemcx to lgcition loppingzfresh putcthxfkijcjen\n",
      "39 \t 15 \t  tg dhe aemcx to lgcition loppingzfresh putcthxfkijcjen\n",
      "40 \t 15 \t  tg  he aemcx to lgcition loppingzfresh putcthxfkijcjen\n",
      "41 \t 14 \t  tg  he aemcx to lgcition loppingzfresh putcthefkijcjen\n",
      "42 \t 14 \t  tg  he aemcx to agcition koppingzfresh putcthefkijcjen\n",
      "43 \t 14 \t  tg  he aemcx to agcition koppingffresh putcthefkijcjen\n",
      "44 \t 13 \t  tg  he aemcx to agcition koppingffresh putcthefkitcjen\n",
      "45 \t 12 \t  tg  he aemcx to agcition koppingffresh outcthefkitcjen\n",
      "46 \t 12 \t  ta  he aemcx to agcition koppingffresh outcthefkitcjen\n",
      "47 \t 11 \t  ta  he aemcx to agcition koppingffresh out thefkitcjen\n",
      "48 \t 10 \t  ta  he remcx to agcition koppingffresh out thefkitcjen\n",
      "49 \t 10 \t  ta  he remcx to agcition  oppingffresh out thefkitcjen\n",
      "50 \t 9 \t  ta  he remcx to agnition  oppingffresh out thefkitcjen\n",
      "51 \t 9 \t  ta  he remcx to agnition  oppingbfresh out thefkitcjen\n",
      "52 \t 8 \t  ta the remcx to agnition  oppingbfresh out thefkitcjen\n",
      "53 \t 8 \t  ta the remcx to agnition  oppingbfresh out thefkitcjen\n",
      "54 \t 7 \t  ta the remcx to agnition  oppingbfresh out the kitcjen\n",
      "55 \t 7 \t  ta the rem x to agnition  oppingbfresh out the kitcjen\n",
      "56 \t 7 \t  ta the rem x to agnition  oppingbfresh out the kitceen\n",
      "57 \t 7 \t  ta the rem x to agnition  oppingbfresh out the kitceen\n",
      "58 \t 7 \t  ta the rem x to agnition  oppingbfresh out the kitceen\n",
      "59 \t 7 \t  ta the rem x to agnition  oppingbfresh out the kitceen\n",
      "60 \t 7 \t  ta the rem x to agnitifn poppingbfresh out the kitceen\n",
      "61 \t 7 \t  ta the rem x to agniti n poppingbfresh out the kitceen\n",
      "62 \t 7 \t  ta the rem x to agniti n poppingbfresh out the kitceen\n",
      "63 \t 6 \t  ta the remix to agniti n poppingbfresh out the kitceen\n",
      "64 \t 6 \t  ta the remix to agniti n poppingbfresh out the kitcden\n",
      "65 \t 6 \t  ta the remix to agniti n poppingbfresh out the kitc en\n",
      "66 \t 6 \t  ta the remix to agniti n poppingbfresh out the kitc en\n",
      "67 \t 5 \t  ta the remix to agniti n popping fresh out the kitc en\n",
      "68 \t 5 \t  ta the remix to agniti n popping fresh out the kitc en\n",
      "69 \t 5 \t  ta the remix to agniti n popping fresh out the kitc en\n",
      "70 \t 5 \t  ta the remix to agniti n popping fresh out the kitc en\n",
      "71 \t 4 \t  ts the remix to agniti n popping fresh out the kitc en\n",
      "72 \t 4 \t  ts the remix to agniti n popping fresh out the kitc en\n",
      "73 \t 4 \t  ts the remix to agniti n popping fresh out the kitc en\n",
      "74 \t 4 \t  ts the remix to agniti n popping fresh out the kitc en\n",
      "75 \t 3 \t its the remix to agniti n popping fresh out the kitc en\n",
      "76 \t 3 \t its the remix to agniti n popping fresh out the kitc en\n",
      "77 \t 3 \t its the remix to agniti n popping fresh out the kitc en\n",
      "78 \t 3 \t iis the remix to agniti n popping fresh out the kitchen\n",
      "79 \t 3 \t iis the remix to agniti n popping fresh out the kitchen\n",
      "80 \t 3 \t iis the remix to agniti n popping fresh out the kitchen\n",
      "81 \t 3 \t iis the remix to agniti n popping fresh out the kitchen\n",
      "82 \t 3 \t ics the remix to agniti n popping fresh out the kitchen\n",
      "83 \t 3 \t ics the remix to agniti n popping fresh out the kitchen\n",
      "84 \t 3 \t ias the remix to agniti n popping fresh out the kitchen\n",
      "85 \t 3 \t ias the remix to  gniti n popping fresh out the kitchen\n",
      "86 \t 3 \t ias the remix to  gniti n popping fresh out the kitchen\n",
      "87 \t 3 \t ias the remix to  gniti n popping fresh out the kitchen\n",
      "88 \t 2 \t its the remix to kgniti n popping fresh out the kitchen\n",
      "89 \t 2 \t its the remix to jgniti n popping fresh out the kitchen\n",
      "90 \t 2 \t its the remix to jgniti n popping fresh out the kitchen\n",
      "91 \t 2 \t its the remix to jgniti n popping fresh out the kitchen\n",
      "92 \t 2 \t its the remix to bgniti n popping fresh out the kitchen\n",
      "93 \t 1 \t its the remix to igniti n popping fresh out the kitchen\n",
      "94 \t 1 \t its the remix to igniti n popping fresh out the kitchen\n",
      "95 \t 1 \t its the remix to igniti n popping fresh out the kitchen\n",
      "96 \t 1 \t its the remix to igniti n popping fresh out the kitchen\n",
      "97 \t 1 \t its the remix to igniti n popping fresh out the kitchen\n",
      "98 \t 1 \t its the remix to igniti n popping fresh out the kitchen\n",
      "99 \t 1 \t its the remix to igniti n popping fresh out the kitchen\n",
      "100 \t 1 \t its the remix to igniti n popping fresh out the kitchen\n",
      "101 \t 1 \t its the remix to igniti n popping fresh out the kitchen\n",
      "102 \t 1 \t its the remix to igniti n popping fresh out the kitchen\n",
      "103 \t 1 \t its the remix to igniti n popping fresh out the kitchen\n",
      "104 \t 1 \t its the remix to igniti n popping fresh out the kitchen\n",
      "105 \t 1 \t its the remix to igniti n popping fresh out the kitchen\n",
      "106 \t 1 \t its the remix to igniti n popping fresh out the kitchen\n",
      "107 \t 1 \t its the remix to igniti n popping fresh out the kitchen\n",
      "108 \t 1 \t its the remix to igniti n popping fresh out the kitchen\n",
      "109 \t 1 \t its the remix to igniti n popping fresh out the kitchen\n",
      "110 \t 1 \t its the remix to igniti n popping fresh out the kitchen\n",
      "111 \t 1 \t its the remix to igniti n popping fresh out the kitchen\n",
      "112 \t 1 \t its the remix to igniti n popping fresh out the kitchen\n",
      "113 \t 1 \t its the remix to igniti n popping fresh out the kitchen\n",
      "114 \t 1 \t its the remix to igniti n popping fresh out the kitchen\n",
      "115 \t 1 \t its the remix to igniti n popping fresh out the kitchen\n",
      "116 \t 1 \t its the remix to igniti n popping fresh out the kitchen\n",
      "117 \t 1 \t its the remix to igniti n popping fresh out the kitchen\n",
      "118 \t 1 \t its the remix to igniti n popping fresh out the kitchen\n",
      "119 \t 1 \t its the remix to igniti n popping fresh out the kitchen\n",
      "120 \t 0 \t its the remix to ignition popping fresh out the kitchen\n"
     ]
    }
   ],
   "source": [
    "# #!/usr/bin/env python\n",
    "from random import choice, random\n",
    "ALPHABET = 'abcdefghijklmnopqrstuvwxyz '\n",
    "\n",
    "def initialize(parent, num):\n",
    "    \"\"\"Returns num random sequences the length of parent.\"\"\"\n",
    "    return [[choice(ALPHABET) for i in range(len(parent))] for seq in range(num)]\n",
    "\n",
    "def score(seq, target):\n",
    "    \"\"\"Returns number of differences between seq and target.\"\"\"\n",
    "    return sum(map(int, [a != b for a, b in zip(seq, target)]))\n",
    "\n",
    "def select (population, scores):\n",
    "    scored = zip(scores, population)\n",
    "    scored = sorted(scored)\n",
    "    return scored[0]\n",
    "\n",
    "def breed(parent, num, mutation_rate):\n",
    "    \"\"\"\"Return num copies of parent with mutation_rate changes per letter.\"\"\"\n",
    "    result = []\n",
    "    length = len(parent)\n",
    "    for seq in range(num):\n",
    "        curr = parent[:]\n",
    "        for pos in range(length):\n",
    "            if random() <= mutation_rate: curr[pos] = choice(ALPHABET)\n",
    "        result.append(curr)\n",
    "    return result\n",
    "\n",
    "def evolve(target, num =200, mutation_rate=0.02, generation=0):\n",
    "    \"\"\"\"Evolves random sequences towards seed, using ALPHABET\"\"\"\n",
    "    population = initialize(target,num)\n",
    "    while 1:\n",
    "        \n",
    "        scores = [score(seq, target) for seq in population]\n",
    "        \n",
    "        \n",
    "        best_score, best_seq = select(population, scores)\n",
    "        \n",
    "        print (generation,'\\t',best_score,'\\t', ''.join(best_seq))\n",
    "\n",
    "        if best_score == 0: break\n",
    "        \n",
    "        population = breed(best_seq, num, mutation_rate)\n",
    "        generation += 1\n",
    "        \n",
    "evolve(\"its the remix to ignition popping fresh out the kitchen\")"
   ]
  },
  {
   "cell_type": "code",
   "execution_count": 1,
   "metadata": {
    "collapsed": true
   },
   "outputs": [],
   "source": [
    "s = 'abcde'"
   ]
  },
  {
   "cell_type": "code",
   "execution_count": null,
   "metadata": {
    "collapsed": true
   },
   "outputs": [],
   "source": []
  },
  {
   "cell_type": "code",
   "execution_count": 2,
   "metadata": {
    "collapsed": true
   },
   "outputs": [],
   "source": [
    "f = iter(s)"
   ]
  },
  {
   "cell_type": "code",
   "execution_count": 9,
   "metadata": {
    "collapsed": false
   },
   "outputs": [
    {
     "ename": "StopIteration",
     "evalue": "",
     "output_type": "error",
     "traceback": [
      "\u001b[1;31m---------------------------------------------------------------------------\u001b[0m",
      "\u001b[1;31mStopIteration\u001b[0m                             Traceback (most recent call last)",
      "\u001b[1;32m<ipython-input-9-468f0afdf1b9>\u001b[0m in \u001b[0;36m<module>\u001b[1;34m()\u001b[0m\n\u001b[1;32m----> 1\u001b[1;33m \u001b[0mnext\u001b[0m\u001b[1;33m(\u001b[0m\u001b[0mf\u001b[0m\u001b[1;33m)\u001b[0m\u001b[1;33m\u001b[0m\u001b[0m\n\u001b[0m",
      "\u001b[1;31mStopIteration\u001b[0m: "
     ]
    }
   ],
   "source": [
    "next(f)"
   ]
  },
  {
   "cell_type": "code",
   "execution_count": 15,
   "metadata": {
    "collapsed": true
   },
   "outputs": [],
   "source": [
    "def multiply(i, j): return i*j"
   ]
  },
  {
   "cell_type": "code",
   "execution_count": 22,
   "metadata": {
    "collapsed": false
   },
   "outputs": [
    {
     "data": {
      "text/plain": [
       "'333'"
      ]
     },
     "execution_count": 22,
     "metadata": {},
     "output_type": "execute_result"
    }
   ],
   "source": [
    "multiply(3,'3')"
   ]
  },
  {
   "cell_type": "code",
   "execution_count": 35,
   "metadata": {
    "collapsed": true
   },
   "outputs": [],
   "source": [
    "class myint(int): \n",
    "    def __mul__(self, x): \n",
    "        return self"
   ]
  },
  {
   "cell_type": "code",
   "execution_count": 36,
   "metadata": {
    "collapsed": true
   },
   "outputs": [],
   "source": [
    "x = myint(2)"
   ]
  },
  {
   "cell_type": "code",
   "execution_count": 33,
   "metadata": {
    "collapsed": false
   },
   "outputs": [
    {
     "data": {
      "text/plain": [
       "40"
      ]
     },
     "execution_count": 33,
     "metadata": {},
     "output_type": "execute_result"
    }
   ],
   "source": [
    "2 *20"
   ]
  },
  {
   "cell_type": "code",
   "execution_count": 37,
   "metadata": {
    "collapsed": false
   },
   "outputs": [
    {
     "data": {
      "text/plain": [
       "2"
      ]
     },
     "execution_count": 37,
     "metadata": {},
     "output_type": "execute_result"
    }
   ],
   "source": [
    "x * 20"
   ]
  },
  {
   "cell_type": "code",
   "execution_count": 41,
   "metadata": {
    "collapsed": true
   },
   "outputs": [],
   "source": [
    "from numpy import argsort, abs, take"
   ]
  },
  {
   "cell_type": "code",
   "execution_count": 42,
   "metadata": {
    "collapsed": true
   },
   "outputs": [],
   "source": [
    "from numpy.random import normal, permutation"
   ]
  },
  {
   "cell_type": "code",
   "execution_count": 43,
   "metadata": {
    "collapsed": false
   },
   "outputs": [
    {
     "ename": "ImportError",
     "evalue": "No module named 'cogent'",
     "output_type": "error",
     "traceback": [
      "\u001b[1;31m---------------------------------------------------------------------------\u001b[0m",
      "\u001b[1;31mImportError\u001b[0m                               Traceback (most recent call last)",
      "\u001b[1;32m<ipython-input-43-096c960906b3>\u001b[0m in \u001b[0;36m<module>\u001b[1;34m()\u001b[0m\n\u001b[1;32m----> 1\u001b[1;33m \u001b[1;32mfrom\u001b[0m \u001b[0mcogent\u001b[0m\u001b[1;33m.\u001b[0m\u001b[0mmaths\u001b[0m\u001b[1;33m.\u001b[0m\u001b[0mstats\u001b[0m\u001b[1;33m.\u001b[0m\u001b[0mtest\u001b[0m \u001b[1;32mimport\u001b[0m \u001b[0mregress\u001b[0m\u001b[1;33m,\u001b[0m \u001b[0mcorrelation\u001b[0m\u001b[1;33m\u001b[0m\u001b[0m\n\u001b[0m",
      "\u001b[1;31mImportError\u001b[0m: No module named 'cogent'"
     ]
    }
   ],
   "source": [
    "from cogent.maths.stats.test import regress, correlation"
   ]
  },
  {
   "cell_type": "code",
   "execution_count": null,
   "metadata": {
    "collapsed": true
   },
   "outputs": [],
   "source": []
  }
 ],
 "metadata": {
  "kernelspec": {
   "display_name": "Python 3",
   "language": "python",
   "name": "python3"
  },
  "language_info": {
   "codemirror_mode": {
    "name": "ipython",
    "version": 3
   },
   "file_extension": ".py",
   "mimetype": "text/x-python",
   "name": "python",
   "nbconvert_exporter": "python",
   "pygments_lexer": "ipython3",
   "version": "3.5.1"
  }
 },
 "nbformat": 4,
 "nbformat_minor": 0
}
