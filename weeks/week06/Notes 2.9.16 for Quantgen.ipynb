{
 "cells": [
  {
   "cell_type": "code",
   "execution_count": null,
   "metadata": {
    "collapsed": true
   },
   "outputs": [],
   "source": [
    "# Multi Step Analysis\n",
    "# Quality Control, Read Alignment, Alignment Refinement, Variant Calling, Variant Calling, Variant Annotation,\n",
    "# Visualization - both for Alignments and Variants"
   ]
  },
  {
   "cell_type": "code",
   "execution_count": null,
   "metadata": {
    "collapsed": true
   },
   "outputs": [],
   "source": [
    "# we will be comparing a tumor exome with a normal exome from the patient "
   ]
  },
  {
   "cell_type": "code",
   "execution_count": null,
   "metadata": {
    "collapsed": true
   },
   "outputs": [],
   "source": [
    "# first you get data from Hi-Seq, get HiSeq BCL files and convert them to FASTQ files using casava 1.8"
   ]
  },
  {
   "cell_type": "code",
   "execution_count": null,
   "metadata": {
    "collapsed": true
   },
   "outputs": [],
   "source": [
    "# then you perform an alignment on the FASTQ file, using Samtools BWA Align Sort Reformat -Unmapped, get a Mapped BAM file"
   ]
  },
  {
   "cell_type": "code",
   "execution_count": null,
   "metadata": {
    "collapsed": true
   },
   "outputs": [],
   "source": [
    "Then you refine the data, where you use GATK, Picard, GATK, realign, subtract duplicates, recalibrate, get a clean BAM file"
   ]
  },
  {
   "cell_type": "code",
   "execution_count": null,
   "metadata": {
    "collapsed": true
   },
   "outputs": [],
   "source": [
    "then you call variants on the cleaned BAm using GATK, which is call, left align indels, filter, evaluate, and you get a\n",
    "filtered VCF file"
   ]
  },
  {
   "cell_type": "code",
   "execution_count": null,
   "metadata": {
    "collapsed": true
   },
   "outputs": [],
   "source": [
    "storage is expensive so you need to have a good idea on your data\n",
    "for a genome, about 30x depth, you have a 100-200gb FASTQ file, 100-200gb BAM, but down to 2GB VCF.gz\n",
    "for an exome, (about 50mB), you get about 120x depth, 5-10gB of FASTQ, 10-30gb of BAM, 3-6MB of VCF\n",
    "for a deep targeted thing, (150kb), you have 1500x depth, 300-500mB FASTQ, 150mB BAM, 3-6mB VCF"
   ]
  },
  {
   "cell_type": "code",
   "execution_count": null,
   "metadata": {
    "collapsed": true
   },
   "outputs": [],
   "source": [
    "if you have a cohort of 100 or 200 samples you can get a good economy of scale if you have an exome instead of all genome\n",
    "but if you care about coding variation you dont carea botu most of the genome"
   ]
  },
  {
   "cell_type": "code",
   "execution_count": null,
   "metadata": {
    "collapsed": true
   },
   "outputs": [],
   "source": [
    "first raw data you get from a facility is a FASTQ file - first line is aname of the read - can be decoded\n",
    "instrument serial number, lane, swath, x-coordinate, y-coordinate, and read direction \n",
    "then the sequence, then a + to seperate the lines, then the quality of the read in a code.\n",
    "base quality is done using a code to compress the data, its like log 10 of the error rate likelyhood or soemthing"
   ]
  },
  {
   "cell_type": "code",
   "execution_count": null,
   "metadata": {
    "collapsed": true
   },
   "outputs": [],
   "source": [
    "PHRED-like quality score - correspondence \n",
    "every key on the keyboard has a code associated wiith it, ! = 33, I is 73, etc. \n",
    "can subtract 33 from all of them to get to a code starting at 0\n",
    "low quality is 0, high quality is 40 \n",
    "PHRED scale determines the error rate. If you have a PHRED score of 20, means that your error rate is 10^-2, if your score is 30,\n",
    "error rate is 10^-3 "
   ]
  },
  {
   "cell_type": "markdown",
   "metadata": {},
   "source": [
    "sometimes you get an optical duplicate with exactly the same read thats like a few pixels away, needs to be removed"
   ]
  },
  {
   "cell_type": "code",
   "execution_count": null,
   "metadata": {
    "collapsed": true
   },
   "outputs": [],
   "source": [
    "FASTQ QC - can see difference between a good and bad quality control read on the screen\n",
    "below 20 is not worth keeping there.\n",
    "\n",
    "can look at ACGT balance, sometimes you get contamination by sequence adapter\n"
   ]
  },
  {
   "cell_type": "markdown",
   "metadata": {},
   "source": [
    "suffix array - its pretty muc the way that a computer finds where a sequence lies in the genome - can represent a genome by a sequence, you can build a tree that represents the seqeuence in all the fragments of the genome, then you can search that tree for whatever sequence you are looking for\n",
    "its good, its fast, but it uses a shitton of memory"
   ]
  },
  {
   "cell_type": "code",
   "execution_count": null,
   "metadata": {
    "collapsed": true
   },
   "outputs": [],
   "source": [
    "Burrows-Wheeler transform - store entire refrence rgenome, \n",
    "align tag bases by base from the end, when tag is traveresed, \n",
    "all active locations ar ereported, if no match is found then back up and try a substitution\n",
    "concatinate all chrmosomes onto single string, transform and index the whole string into a fragmented and re"
   ]
  },
  {
   "cell_type": "code",
   "execution_count": null,
   "metadata": {
    "collapsed": true
   },
   "outputs": [],
   "source": [
    "shows a BWT on a short sequence, - start writing all possible permutations of the sequence, then sort by alphabetical order\n",
    "like sort by fragmenting the and rearranging fragments, but not like you just alphabetize the whole thing\n",
    "then you look at the last base of the "
   ]
  },
  {
   "cell_type": "code",
   "execution_count": null,
   "metadata": {
    "collapsed": true
   },
   "outputs": [],
   "source": [
    "BWA for alignment \n",
    "bwa mem is another thing i guess"
   ]
  },
  {
   "cell_type": "code",
   "execution_count": null,
   "metadata": {
    "collapsed": true
   },
   "outputs": [],
   "source": [
    "SAM/BAM FORMAT \n",
    "utility - can use languagte bindings, snp/cnv/sv detection, transformers, peak finders, viewers/browsers, \n",
    "you get it from aligners or raw reads\n"
   ]
  },
  {
   "cell_type": "code",
   "execution_count": null,
   "metadata": {
    "collapsed": true
   },
   "outputs": [],
   "source": [
    "BAM format starts with header, then different columns representign data, header, and then at least 11 columns.\n",
    "name, \n",
    "flag-telling you whether the read is aligned or not, on plus or not, is read 1 or read 2, some mapping info on mate\n",
    "RNAME- refeerece sequence name, in general is the chromosome, could be the contig name\n",
    "POS - where it is\n",
    "MAPQ- maping quality - low score is bad. 0 means theres more than one spot it mapped, it picked one at random\n",
    "CIGAR - nerdy way to represent how the read is align, all compressed and shit"
   ]
  },
  {
   "cell_type": "code",
   "execution_count": null,
   "metadata": {
    "collapsed": true
   },
   "outputs": [],
   "source": [
    "CIGAR string - \n",
    "tell you how the alignmetn is \n",
    "match means theres no insertion or deletion, not necessarily that theres a base match\n"
   ]
  },
  {
   "cell_type": "code",
   "execution_count": null,
   "metadata": {
    "collapsed": true
   },
   "outputs": [],
   "source": [
    "BAM example - shows example of stuff on the powerpoint\n",
    "clipping - for some reasons we had some adapter in the library that gets sequenced but not mapped\n",
    "then you can use S which is a soft-clip, we still represents the 3a from adapter in sequence, but we know that they dont map\n",
    "to the genome.\n",
    "hard clip is like soft clip - sequence of read that dont match, buuuut , difference is its not represented in the bamfile "
   ]
  },
  {
   "cell_type": "code",
   "execution_count": null,
   "metadata": {
    "collapsed": true
   },
   "outputs": [],
   "source": [
    "flags- SAM FLAGS bit flags, 12 or so flags that are either yes or no, gives you a number "
   ]
  },
  {
   "cell_type": "code",
   "execution_count": null,
   "metadata": {
    "collapsed": true
   },
   "outputs": [],
   "source": [
    "MD field - gives you what teh mismatches are. "
   ]
  },
  {
   "cell_type": "code",
   "execution_count": null,
   "metadata": {
    "collapsed": true
   },
   "outputs": [],
   "source": [
    "BAM SAM - flexible compatibel with ultiple alginment programs\n",
    "simple easy to generate and conert\n",
    "compact in file size\n",
    "works on a stream low memory footprint\n",
    "indexable fo refficiency\n",
    "sam is human readable"
   ]
  },
  {
   "cell_type": "code",
   "execution_count": null,
   "metadata": {
    "collapsed": true
   },
   "outputs": [],
   "source": [
    "SAMTOOLS and Picard - swiss army knife of bioinformatic stfuf"
   ]
  },
  {
   "cell_type": "code",
   "execution_count": null,
   "metadata": {
    "collapsed": true
   },
   "outputs": [],
   "source": [
    "SAMTOOLS - allows you to manipulate alignemts in bam formate, convert to and from sam formate\n",
    "can sort, merge, index, retrieve reads in any region\n",
    "works on a stream commands combined with unix pipes\n",
    "able to open a bam on a remote FTP or HTTP server"
   ]
  },
  {
   "cell_type": "code",
   "execution_count": null,
   "metadata": {
    "collapsed": true
   },
   "outputs": [],
   "source": [
    "SAMTOOLS - examples of modules things\n",
    "view- does sam to bam\n",
    "sort sorts alignmetn, mpileup\n",
    "flagstat- gives you simpel stats\n",
    "index -\n",
    "depth-"
   ]
  },
  {
   "cell_type": "code",
   "execution_count": null,
   "metadata": {
    "collapsed": true
   },
   "outputs": [],
   "source": [
    "BAM is the compressed version, is binary, SAM is uncompressed, is readable, "
   ]
  },
  {
   "cell_type": "code",
   "execution_count": null,
   "metadata": {
    "collapsed": true
   },
   "outputs": [],
   "source": [
    "Picard - other tool box - so so so many tools, dont feel lik eyou need to know them all\n",
    "calculateHsMetrics\n",
    "Markduplicates"
   ]
  },
  {
   "cell_type": "code",
   "execution_count": null,
   "metadata": {
    "collapsed": true
   },
   "outputs": [],
   "source": [
    "BED AND BEDTOOLS\n",
    "Bed track, bed format\n",
    "header, chromosome, start, stop, other (name, strand color, type)\n",
    "Intersect BED\n",
    "calculats the intersection between two files and how many times they intersect\n",
    "if you give it a bam file it will calculate coverage\n",
    "\n",
    "Coverage BED\n",
    "can calculate coverage once you usm up intervals, how mjcuh coverage of one file over another file\n"
   ]
  },
  {
   "cell_type": "code",
   "execution_count": null,
   "metadata": {
    "collapsed": true
   },
   "outputs": [],
   "source": [
    "BAM postprocessing GATK\n"
   ]
  }
 ],
 "metadata": {
  "kernelspec": {
   "display_name": "Python 3",
   "language": "python",
   "name": "python3"
  },
  "language_info": {
   "codemirror_mode": {
    "name": "ipython",
    "version": 3
   },
   "file_extension": ".py",
   "mimetype": "text/x-python",
   "name": "python",
   "nbconvert_exporter": "python",
   "pygments_lexer": "ipython3",
   "version": "3.5.1"
  }
 },
 "nbformat": 4,
 "nbformat_minor": 0
}
